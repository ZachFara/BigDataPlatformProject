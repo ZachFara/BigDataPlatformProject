{
 "cells": [
  {
   "cell_type": "markdown",
   "id": "4cb5e687-6989-4cf5-bbba-656a569e0556",
   "metadata": {},
   "source": [
    "# Classification"
   ]
  },
  {
   "cell_type": "markdown",
   "id": "099a5e22-257e-40a4-b5dc-ffad3eb0af73",
   "metadata": {},
   "source": [
    "Goal: To predict:\n",
    "\n",
    "        1) if a driver is going to receive a tip\n",
    "        2) if a driver is going to receive a tip that is above average/median."
   ]
  },
  {
   "cell_type": "markdown",
   "id": "3b96ce07-c064-4cb6-94a8-5275b007dc32",
   "metadata": {},
   "source": [
    "### Load Necessary Packages and Libraries"
   ]
  },
  {
   "cell_type": "code",
   "execution_count": 1,
   "id": "66ee484a-832f-4931-bc20-5d832d8cf1bc",
   "metadata": {},
   "outputs": [],
   "source": [
    "from pyspark.sql import SparkSession\n",
    "from pyspark.ml import Pipeline\n",
    "from pyspark.ml.classification import LogisticRegression, RandomForestClassifier, GBTClassifier\n",
    "from pyspark.ml.feature import VectorAssembler, StringIndexer\n",
    "from pyspark.ml.evaluation import BinaryClassificationEvaluator"
   ]
  },
  {
   "cell_type": "markdown",
   "id": "32396f33-70a0-48d7-8b2a-12bacbd06f9c",
   "metadata": {},
   "source": [
    "### Set up PySpark Environment "
   ]
  },
  {
   "cell_type": "code",
   "execution_count": 2,
   "id": "79f11ace-fd08-46d7-bb02-ff67ef65528b",
   "metadata": {},
   "outputs": [
    {
     "name": "stderr",
     "output_type": "stream",
     "text": [
      "23/11/26 06:01:18 WARN SparkSession: Using an existing Spark session; only runtime SQL configurations will take effect.\n"
     ]
    }
   ],
   "source": [
    "# Initialize Spark Session\n",
    "spark = SparkSession.builder.appName('TaxiTipPrediction').getOrCreate()"
   ]
  },
  {
   "cell_type": "markdown",
   "id": "9c6e4cb3-5eee-4781-b948-e725717d42d5",
   "metadata": {},
   "source": [
    "### Load Raw Data"
   ]
  },
  {
   "cell_type": "code",
   "execution_count": null,
   "id": "9da1d237-b1ec-40e4-9f98-db684e11d0ab",
   "metadata": {},
   "outputs": [],
   "source": []
  },
  {
   "cell_type": "markdown",
   "id": "a074439a-5dee-4a24-a069-54e5510ca394",
   "metadata": {},
   "source": [
    "## I.Data Preprocessing"
   ]
  },
  {
   "cell_type": "markdown",
   "id": "9721a458-99f8-4478-9652-1cb336947375",
   "metadata": {},
   "source": [
    "### a. Data Cleaning"
   ]
  },
  {
   "cell_type": "markdown",
   "id": "0bd34603-3ad4-4a57-b14e-78056ac70b10",
   "metadata": {},
   "source": [
    "### b. EDA"
   ]
  },
  {
   "cell_type": "markdown",
   "id": "b3c67d44-630d-4ac4-8e09-ec3743a601e7",
   "metadata": {},
   "source": [
    "## II. Feature Engineering"
   ]
  },
  {
   "cell_type": "markdown",
   "id": "d66f3f23-57b5-4bc4-bb54-b7f745eedc56",
   "metadata": {},
   "source": []
  },
  {
   "cell_type": "markdown",
   "id": "70de39cc-ad30-4c76-b946-2005ec180c6c",
   "metadata": {},
   "source": [
    "## III. Data Splitting"
   ]
  },
  {
   "cell_type": "code",
   "execution_count": null,
   "id": "1e43d48e-9ce4-47d4-85a1-4a102c0431bc",
   "metadata": {},
   "outputs": [],
   "source": [
    "# # Data Splitting\n",
    "# train_data, test_data = df.randomSplit([0.7, 0.3])"
   ]
  },
  {
   "cell_type": "markdown",
   "id": "a967ec20-c5c9-4797-9008-8a56901c4864",
   "metadata": {},
   "source": [
    "## IV. Model Building"
   ]
  },
  {
   "cell_type": "markdown",
   "id": "2aca3160-cf02-4144-9ab9-a8ff6a2e5e25",
   "metadata": {},
   "source": [
    "## V. Hyperparameter Tuning"
   ]
  },
  {
   "cell_type": "markdown",
   "id": "e6da4956-dad6-4f19-a9b5-043f7baea52c",
   "metadata": {},
   "source": [
    "## VI. Model Evaluation"
   ]
  },
  {
   "cell_type": "markdown",
   "id": "d91026e1-7238-49e9-b266-1e687926da7f",
   "metadata": {},
   "source": [
    "## VII. Conclusions"
   ]
  },
  {
   "cell_type": "markdown",
   "id": "16d733e6-88d9-4c1f-9023-460c05f00daa",
   "metadata": {},
   "source": []
  }
 ],
 "metadata": {
  "kernelspec": {
   "display_name": "PySpark",
   "language": "python",
   "name": "pyspark"
  },
  "language_info": {
   "codemirror_mode": {
    "name": "ipython",
    "version": 3
   },
   "file_extension": ".py",
   "mimetype": "text/x-python",
   "name": "python",
   "nbconvert_exporter": "python",
   "pygments_lexer": "ipython3",
   "version": "3.10.8"
  }
 },
 "nbformat": 4,
 "nbformat_minor": 5
}
